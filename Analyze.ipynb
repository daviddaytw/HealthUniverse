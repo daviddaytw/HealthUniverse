{
 "cells": [
  {
   "cell_type": "code",
   "execution_count": null,
   "metadata": {},
   "outputs": [],
   "source": [
    "import numpy as np\n",
    "import pandas as pd\n",
    "import matplotlib.pyplot as plt\n",
    "\n",
    "df = pd.read_csv(\"hospital_data_sampleee.csv\")\n",
    "df.info()"
   ]
  },
  {
   "cell_type": "code",
   "execution_count": null,
   "metadata": {},
   "outputs": [],
   "source": [
    "df[\"Check-in Time\"] = pd.to_datetime(df[\"Check-in Time\"]) - pd.Timestamp('today').normalize()\n",
    "df[\"Entry Time\"] = pd.to_datetime(df[\"Entry Time\"]) - pd.Timestamp('today').normalize()\n",
    "df[\"Completion Time\"] = pd.to_datetime(df[\"Completion Time\"]) - pd.Timestamp('today').normalize()\n",
    "df.describe()"
   ]
  },
  {
   "cell_type": "code",
   "execution_count": null,
   "metadata": {},
   "outputs": [],
   "source": [
    "df['Waiting Time'] = (df['Entry Time'] - df['Check-in Time'])  / pd.Timedelta('1 minute')\n",
    "df['Check-in Time'] = df['Check-in Time'] / pd.Timedelta('1 hour')\n",
    "df['Entry Time'] = df['Entry Time'] / pd.Timedelta('1 hour')\n",
    "df['Completion Time'] = df['Completion Time'] / pd.Timedelta('1 hour')\n",
    "df.describe()"
   ]
  },
  {
   "cell_type": "code",
   "execution_count": null,
   "metadata": {},
   "outputs": [],
   "source": [
    "df"
   ]
  },
  {
   "cell_type": "code",
   "execution_count": null,
   "metadata": {},
   "outputs": [],
   "source": [
    "df.plot.scatter(x='Entry Time', y='Completion Time')"
   ]
  },
  {
   "cell_type": "code",
   "execution_count": null,
   "metadata": {},
   "outputs": [],
   "source": [
    "# Remove wrong data\n",
    "df = df.loc[df['Entry Time'] <= df['Completion Time']]\n",
    "df.plot.scatter(x='Entry Time', y='Completion Time')"
   ]
  },
  {
   "cell_type": "code",
   "execution_count": null,
   "metadata": {},
   "outputs": [],
   "source": [
    "df.plot.scatter(x='Check-in Time', y='Waiting Time')"
   ]
  },
  {
   "cell_type": "code",
   "execution_count": null,
   "metadata": {},
   "outputs": [],
   "source": [
    "df = df.loc[df['HospitalID'] == 'HOSP1']\n",
    "df = df.drop(columns=['Date', 'HospitalID'])\n",
    "df"
   ]
  },
  {
   "cell_type": "code",
   "execution_count": null,
   "metadata": {},
   "outputs": [],
   "source": [
    "PATIENT_IN_ROOM = []\n",
    "for i in range(80, 240):\n",
    "     t = i / 10\n",
    "     PATIENT_IN_ROOM.append(len(df.loc[df['Check-in Time'] <= t].loc[t < df['Entry Time']]))\n",
    "plt.xlabel('Time')\n",
    "plt.ylabel('Patients in line')\n",
    "plt.plot(np.array(range(80, 240))/10 ,PATIENT_IN_ROOM)"
   ]
  },
  {
   "cell_type": "code",
   "execution_count": null,
   "metadata": {},
   "outputs": [],
   "source": [
    "df['Entry Time'] = df['Entry Time'].round(decimals=1)\n",
    "df['Check-in Time'] = df['Check-in Time'].round(decimals=1)\n",
    "df['Completion Time'] = df['Completion Time'].round(decimals=1)\n",
    "df = df.groupby('Entry Time').mean().reset_index()\n",
    "df"
   ]
  },
  {
   "cell_type": "code",
   "execution_count": null,
   "metadata": {},
   "outputs": [],
   "source": [
    "pdf = pd.DataFrame({ 'Entry Time': np.array(range(80, 240)) / 10, 'Patient in line': PATIENT_IN_ROOM })\n",
    "df = df.join(pdf.set_index('Entry Time'), on='Entry Time', how='inner')\n",
    "df"
   ]
  },
  {
   "cell_type": "code",
   "execution_count": null,
   "metadata": {},
   "outputs": [],
   "source": [
    "from sklearn.linear_model import LinearRegression\n",
    "\n",
    "X = df['Entry Time'].to_numpy().reshape(-1, 1)\n",
    "Y = df['Waiting Time'].to_numpy().reshape(-1, 1)\n",
    "\n",
    "linear_regressor = LinearRegression()\n",
    "linear_regressor.fit(X, Y)\n",
    "Y_pred = linear_regressor.predict(X)\n",
    "\n",
    "plt.xlabel('Entry Time')\n",
    "plt.ylabel('Wait Time')\n",
    "plt.scatter(X, Y)\n",
    "plt.plot(X, Y_pred, color='red')\n",
    "plt.show()"
   ]
  },
  {
   "cell_type": "code",
   "execution_count": null,
   "metadata": {},
   "outputs": [],
   "source": [
    "from sklearn.linear_model import LinearRegression\n",
    "\n",
    "X = df['Patient in line'].to_numpy().reshape(-1, 1)\n",
    "Y = df['Waiting Time'].to_numpy().reshape(-1, 1)\n",
    "\n",
    "linear_regressor = LinearRegression()\n",
    "linear_regressor.fit(X, Y)\n",
    "Y_pred = linear_regressor.predict(X)\n",
    "\n",
    "plt.xlabel('Patient in line')\n",
    "plt.ylabel('Wait Time')\n",
    "plt.scatter(X, Y)\n",
    "plt.plot(X, Y_pred, color='red')\n",
    "plt.show()"
   ]
  },
  {
   "cell_type": "code",
   "execution_count": null,
   "metadata": {},
   "outputs": [],
   "source": [
    "from sklearn.linear_model import LinearRegression\n",
    "\n",
    "X = df[['Entry Time', 'Patient in line']].to_numpy()\n",
    "Y = df['Waiting Time'].to_numpy().reshape(-1, 1)\n",
    "\n",
    "linear_regressor = LinearRegression()\n",
    "linear_regressor.fit(X, Y)\n",
    "Y_pred = linear_regressor.predict(X)\n",
    "\n",
    "plt.xlabel('Time')\n",
    "plt.ylabel('Waiting Time')\n",
    "plt.plot(df['Entry Time'], Y_pred, label='Prediction')\n",
    "plt.plot(df['Entry Time'], Y, label='Truth')\n",
    "plt.legend()"
   ]
  },
  {
   "cell_type": "code",
   "execution_count": null,
   "metadata": {},
   "outputs": [],
   "source": []
  }
 ],
 "metadata": {
  "kernelspec": {
   "display_name": ".env",
   "language": "python",
   "name": "python3"
  },
  "language_info": {
   "codemirror_mode": {
    "name": "ipython",
    "version": 3
   },
   "file_extension": ".py",
   "mimetype": "text/x-python",
   "name": "python",
   "nbconvert_exporter": "python",
   "pygments_lexer": "ipython3",
   "version": "3.11.4"
  },
  "orig_nbformat": 4
 },
 "nbformat": 4,
 "nbformat_minor": 2
}
